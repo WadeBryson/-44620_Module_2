{
 "cells": [
  {
   "attachments": {},
   "cell_type": "markdown",
   "metadata": {},
   "source": [
    "## Name: Wade Bryson"
   ]
  },
  {
   "cell_type": "code",
   "execution_count": 2,
   "metadata": {},
   "outputs": [
    {
     "name": "stdout",
     "output_type": "stream",
     "text": [
      "*      *\n",
      "**    **\n",
      "***  ***\n",
      "********\n"
     ]
    }
   ],
   "source": [
    "# Setting the initial amount of stars to 1 since that is the first row of the pattern\n",
    "stars = 1\n",
    "# Setting the width of the display\n",
    "characters = 8\n",
    "# Setting the amount of rows wanted in the display\n",
    "counter = 4\n",
    "\n",
    "while counter != 0:\n",
    "    spaces = characters - 2*stars\n",
    "    print(\"*\"*stars, end=\"\")\n",
    "    print(\" \"*spaces, end=\"\")\n",
    "    print(\"*\"*stars, end=\"\\n\")\n",
    "    counter = counter - 1\n",
    "    stars = stars + 1"
   ]
  }
 ],
 "metadata": {
  "kernelspec": {
   "display_name": "Python 3",
   "language": "python",
   "name": "python3"
  },
  "language_info": {
   "codemirror_mode": {
    "name": "ipython",
    "version": 3
   },
   "file_extension": ".py",
   "mimetype": "text/x-python",
   "name": "python",
   "nbconvert_exporter": "python",
   "pygments_lexer": "ipython3",
   "version": "3.11.3"
  },
  "orig_nbformat": 4
 },
 "nbformat": 4,
 "nbformat_minor": 2
}
